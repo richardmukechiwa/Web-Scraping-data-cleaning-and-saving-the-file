{
 "cells": [
  {
   "cell_type": "markdown",
   "id": "4e33a5f5-8173-4357-a57a-724affc0427e",
   "metadata": {},
   "source": [
    "# Web scraping on Scrape this Site "
   ]
  },
  {
   "cell_type": "markdown",
   "id": "53fcba71-a3a0-4614-a50e-195631d72d8a",
   "metadata": {},
   "source": [
    "## Countries of the World "
   ]
  },
  {
   "cell_type": "markdown",
   "id": "287cadd3-7696-497e-ab41-dfe2c1c846cb",
   "metadata": {},
   "source": [
    "Web scraping is the extraction of data from a web site to use for analysis or to build a model which can be used in solving a business challenge or in  business decision making. In this project I am going to do web scraping on the Scrape this site web site about countries of the world. The data to be extracted include the country name, capital, population and the size of the country in terms of area covered in m2. I am going to use requests library to requests the data from the website url and BeautifulSoup to parse the html and make the extraction easy."
   ]
  },
  {
   "cell_type": "code",
   "execution_count": 650,
   "id": "d64e73e0-0fe9-4b97-b59c-dcc2522642bd",
   "metadata": {},
   "outputs": [],
   "source": [
    "#importing libraries\n",
    "import pandas as pd \n",
    "from bs4 import BeautifulSoup\n",
    "import requests\n"
   ]
  },
  {
   "cell_type": "code",
   "execution_count": 651,
   "id": "fd561720-7696-41f5-b924-16aaf90a57e5",
   "metadata": {},
   "outputs": [],
   "source": [
    " url = 'https://www.scrapethissite.com/pages/simple/'"
   ]
  },
  {
   "cell_type": "code",
   "execution_count": 652,
   "id": "febb197a-dfc3-4103-b073-6a303dbff10b",
   "metadata": {},
   "outputs": [],
   "source": [
    "response = requests.get(url)"
   ]
  },
  {
   "cell_type": "code",
   "execution_count": 653,
   "id": "e1824e56-cfaf-4620-bb4d-b69b11e216d6",
   "metadata": {
    "scrolled": true
   },
   "outputs": [],
   "source": [
    "soup = BeautifulSoup(response.content,  'html.parser')"
   ]
  },
  {
   "cell_type": "markdown",
   "id": "760f8daf-3275-4deb-b907-0040e1267b0b",
   "metadata": {},
   "source": [
    "## Data Extraction\n",
    "\n"
   ]
  },
  {
   "cell_type": "markdown",
   "id": "1f52fd28-84c6-4461-a791-c88445a5dca1",
   "metadata": {},
   "source": [
    "I will start by extracting the title of the html that I am about the scrape in detail"
   ]
  },
  {
   "cell_type": "code",
   "execution_count": 656,
   "id": "ce69ebe7-f909-4d3b-9513-fbaa24cdd6b2",
   "metadata": {},
   "outputs": [
    {
     "name": "stdout",
     "output_type": "stream",
     "text": [
      "Countries of the World: A Simple Example | Scrape This Site | A public sandbox for learning web scraping\n"
     ]
    }
   ],
   "source": [
    "#Extracting the title using find \n",
    "title =  soup.find('title').get_text()\n",
    "print(title)"
   ]
  },
  {
   "cell_type": "markdown",
   "id": "52b4629d-eefe-4cad-b28a-2f65de54dc3d",
   "metadata": {},
   "source": [
    "I am going to use a loop code  to extract the data of each country and make a dataframe"
   ]
  },
  {
   "cell_type": "code",
   "execution_count": 658,
   "id": "44c8d530-d552-49a9-ac74-9dc1ef93697a",
   "metadata": {
    "scrolled": true
   },
   "outputs": [],
   "source": [
    "countries = soup.find_all('div', class_ = 'col-md-4 country')\n"
   ]
  },
  {
   "cell_type": "code",
   "execution_count": 659,
   "id": "ccf5850a-9b4d-4245-abc6-8fc904dc9938",
   "metadata": {},
   "outputs": [],
   "source": [
    "#empty list to store the extracted data\n",
    "country_names = []\n",
    "capitals = []\n",
    "population = []\n",
    "area_km2 = []"
   ]
  },
  {
   "cell_type": "code",
   "execution_count": 660,
   "id": "c27d4e78-95a7-4484-acdd-569443b76375",
   "metadata": {},
   "outputs": [],
   "source": [
    "for country in countries:\n",
    "    country_name = country.find('h3', class_  = \"country-name\").get_text()\n",
    "    capital = country.find('div', class_ ='country-info').find('span', class_ = \"country-capital\").get_text()\n",
    "    pop = country.find('span', class_ = 'country-population').get_text()\n",
    "    area = country.find('span', class_ = 'country-area').get_text()\n",
    "    \n",
    "    #loading the empty lists created above\n",
    "    country_names.append(country_name)\n",
    "    capitals.append(capital)\n",
    "    population.append(pop)\n",
    "    area_km2.append(area)\n",
    "\n",
    "    #Creating a data frame \n",
    "    df = pd.DataFrame({\"Country\": country_names, \"Capital_City\":capitals, \"Population\":population, \"Area_km2\": area_km2})\n",
    "    "
   ]
  },
  {
   "cell_type": "code",
   "execution_count": 661,
   "id": "1c5beab5-02dd-427c-ae5a-70cb9e2d3673",
   "metadata": {},
   "outputs": [
    {
     "data": {
      "text/html": [
       "<div>\n",
       "<style scoped>\n",
       "    .dataframe tbody tr th:only-of-type {\n",
       "        vertical-align: middle;\n",
       "    }\n",
       "\n",
       "    .dataframe tbody tr th {\n",
       "        vertical-align: top;\n",
       "    }\n",
       "\n",
       "    .dataframe thead th {\n",
       "        text-align: right;\n",
       "    }\n",
       "</style>\n",
       "<table border=\"1\" class=\"dataframe\">\n",
       "  <thead>\n",
       "    <tr style=\"text-align: right;\">\n",
       "      <th></th>\n",
       "      <th>Country</th>\n",
       "      <th>Capital_City</th>\n",
       "      <th>Population</th>\n",
       "      <th>Area_km2</th>\n",
       "    </tr>\n",
       "  </thead>\n",
       "  <tbody>\n",
       "    <tr>\n",
       "      <th>0</th>\n",
       "      <td>\\n\\n                            Andorra\\n     ...</td>\n",
       "      <td>Andorra la Vella</td>\n",
       "      <td>84000</td>\n",
       "      <td>468.0</td>\n",
       "    </tr>\n",
       "    <tr>\n",
       "      <th>1</th>\n",
       "      <td>\\n\\n                            United Arab Em...</td>\n",
       "      <td>Abu Dhabi</td>\n",
       "      <td>4975593</td>\n",
       "      <td>82880.0</td>\n",
       "    </tr>\n",
       "    <tr>\n",
       "      <th>2</th>\n",
       "      <td>\\n\\n                            Afghanistan\\n ...</td>\n",
       "      <td>Kabul</td>\n",
       "      <td>29121286</td>\n",
       "      <td>647500.0</td>\n",
       "    </tr>\n",
       "    <tr>\n",
       "      <th>3</th>\n",
       "      <td>\\n\\n                            Antigua and Ba...</td>\n",
       "      <td>St. John's</td>\n",
       "      <td>86754</td>\n",
       "      <td>443.0</td>\n",
       "    </tr>\n",
       "    <tr>\n",
       "      <th>4</th>\n",
       "      <td>\\n\\n                            Anguilla\\n    ...</td>\n",
       "      <td>The Valley</td>\n",
       "      <td>13254</td>\n",
       "      <td>102.0</td>\n",
       "    </tr>\n",
       "  </tbody>\n",
       "</table>\n",
       "</div>"
      ],
      "text/plain": [
       "                                             Country      Capital_City  \\\n",
       "0  \\n\\n                            Andorra\\n     ...  Andorra la Vella   \n",
       "1  \\n\\n                            United Arab Em...         Abu Dhabi   \n",
       "2  \\n\\n                            Afghanistan\\n ...             Kabul   \n",
       "3  \\n\\n                            Antigua and Ba...        St. John's   \n",
       "4  \\n\\n                            Anguilla\\n    ...        The Valley   \n",
       "\n",
       "  Population  Area_km2  \n",
       "0      84000     468.0  \n",
       "1    4975593   82880.0  \n",
       "2   29121286  647500.0  \n",
       "3      86754     443.0  \n",
       "4      13254     102.0  "
      ]
     },
     "execution_count": 661,
     "metadata": {},
     "output_type": "execute_result"
    }
   ],
   "source": [
    "df.head()"
   ]
  },
  {
   "cell_type": "markdown",
   "id": "0ae4597f-e18f-4343-953a-4b8617712dbc",
   "metadata": {},
   "source": [
    "The country column need cleaning "
   ]
  },
  {
   "cell_type": "markdown",
   "id": "bdc8cbd2-042d-4023-8707-5d662bc8d792",
   "metadata": {},
   "source": [
    "## Data Cleaning "
   ]
  },
  {
   "cell_type": "code",
   "execution_count": 664,
   "id": "a94f3be3-0740-4dd8-982a-9cb1de389698",
   "metadata": {},
   "outputs": [],
   "source": [
    "#removing special characters \n",
    "df['Country'] = df['Country'].str.replace('\\n', '').str.strip()"
   ]
  },
  {
   "cell_type": "code",
   "execution_count": 665,
   "id": "9b06de11-92a0-47a5-b74a-934de4f26d7c",
   "metadata": {},
   "outputs": [
    {
     "data": {
      "text/html": [
       "<div>\n",
       "<style scoped>\n",
       "    .dataframe tbody tr th:only-of-type {\n",
       "        vertical-align: middle;\n",
       "    }\n",
       "\n",
       "    .dataframe tbody tr th {\n",
       "        vertical-align: top;\n",
       "    }\n",
       "\n",
       "    .dataframe thead th {\n",
       "        text-align: right;\n",
       "    }\n",
       "</style>\n",
       "<table border=\"1\" class=\"dataframe\">\n",
       "  <thead>\n",
       "    <tr style=\"text-align: right;\">\n",
       "      <th></th>\n",
       "      <th>Country</th>\n",
       "      <th>Capital_City</th>\n",
       "      <th>Population</th>\n",
       "      <th>Area_km2</th>\n",
       "    </tr>\n",
       "  </thead>\n",
       "  <tbody>\n",
       "    <tr>\n",
       "      <th>0</th>\n",
       "      <td>Andorra</td>\n",
       "      <td>Andorra la Vella</td>\n",
       "      <td>84000</td>\n",
       "      <td>468.0</td>\n",
       "    </tr>\n",
       "    <tr>\n",
       "      <th>1</th>\n",
       "      <td>United Arab Emirates</td>\n",
       "      <td>Abu Dhabi</td>\n",
       "      <td>4975593</td>\n",
       "      <td>82880.0</td>\n",
       "    </tr>\n",
       "    <tr>\n",
       "      <th>2</th>\n",
       "      <td>Afghanistan</td>\n",
       "      <td>Kabul</td>\n",
       "      <td>29121286</td>\n",
       "      <td>647500.0</td>\n",
       "    </tr>\n",
       "    <tr>\n",
       "      <th>3</th>\n",
       "      <td>Antigua and Barbuda</td>\n",
       "      <td>St. John's</td>\n",
       "      <td>86754</td>\n",
       "      <td>443.0</td>\n",
       "    </tr>\n",
       "    <tr>\n",
       "      <th>4</th>\n",
       "      <td>Anguilla</td>\n",
       "      <td>The Valley</td>\n",
       "      <td>13254</td>\n",
       "      <td>102.0</td>\n",
       "    </tr>\n",
       "  </tbody>\n",
       "</table>\n",
       "</div>"
      ],
      "text/plain": [
       "                Country      Capital_City Population  Area_km2\n",
       "0               Andorra  Andorra la Vella      84000     468.0\n",
       "1  United Arab Emirates         Abu Dhabi    4975593   82880.0\n",
       "2           Afghanistan             Kabul   29121286  647500.0\n",
       "3   Antigua and Barbuda        St. John's      86754     443.0\n",
       "4              Anguilla        The Valley      13254     102.0"
      ]
     },
     "execution_count": 665,
     "metadata": {},
     "output_type": "execute_result"
    }
   ],
   "source": [
    "df.head()"
   ]
  },
  {
   "cell_type": "code",
   "execution_count": 666,
   "id": "96c09548-801e-4b18-a18d-b6848c54ed8a",
   "metadata": {},
   "outputs": [
    {
     "data": {
      "text/plain": [
       "(250, 4)"
      ]
     },
     "execution_count": 666,
     "metadata": {},
     "output_type": "execute_result"
    }
   ],
   "source": [
    "#checking the shape\n",
    "df.shape"
   ]
  },
  {
   "cell_type": "code",
   "execution_count": 667,
   "id": "3c12e9ca-fb93-451a-b202-50edac1821bc",
   "metadata": {},
   "outputs": [
    {
     "data": {
      "text/plain": [
       "Country         0\n",
       "Capital_City    0\n",
       "Population      0\n",
       "Area_km2        0\n",
       "dtype: int64"
      ]
     },
     "execution_count": 667,
     "metadata": {},
     "output_type": "execute_result"
    }
   ],
   "source": [
    "#checking null values\n",
    "df.isna().sum()"
   ]
  },
  {
   "cell_type": "code",
   "execution_count": 668,
   "id": "05ffc600-4cc3-4236-9f30-5796db0d7a06",
   "metadata": {},
   "outputs": [
    {
     "name": "stdout",
     "output_type": "stream",
     "text": [
      "<class 'pandas.core.frame.DataFrame'>\n",
      "RangeIndex: 250 entries, 0 to 249\n",
      "Data columns (total 4 columns):\n",
      " #   Column        Non-Null Count  Dtype \n",
      "---  ------        --------------  ----- \n",
      " 0   Country       250 non-null    object\n",
      " 1   Capital_City  250 non-null    object\n",
      " 2   Population    250 non-null    object\n",
      " 3   Area_km2      250 non-null    object\n",
      "dtypes: object(4)\n",
      "memory usage: 7.9+ KB\n"
     ]
    }
   ],
   "source": [
    "df.info()"
   ]
  },
  {
   "cell_type": "code",
   "execution_count": 669,
   "id": "e26e30d9-2516-40f3-9220-686f1b62fbd1",
   "metadata": {},
   "outputs": [
    {
     "data": {
      "text/plain": [
       "0         84000\n",
       "1       4975593\n",
       "2      29121286\n",
       "3         86754\n",
       "4         13254\n",
       "         ...   \n",
       "245    23495361\n",
       "246      159042\n",
       "247    49000000\n",
       "248    13460305\n",
       "249    11651858\n",
       "Name: Population, Length: 250, dtype: int32"
      ]
     },
     "execution_count": 669,
     "metadata": {},
     "output_type": "execute_result"
    }
   ],
   "source": [
    "#changing the data types \n",
    "df['Population'].astype(int)"
   ]
  },
  {
   "cell_type": "code",
   "execution_count": 670,
   "id": "a213d50a-e7df-4870-91ef-794b046d262c",
   "metadata": {},
   "outputs": [
    {
     "data": {
      "text/plain": [
       "0          468.0\n",
       "1        82880.0\n",
       "2       647500.0\n",
       "3          443.0\n",
       "4          102.0\n",
       "         ...    \n",
       "245     527970.0\n",
       "246        374.0\n",
       "247    1219912.0\n",
       "248     752614.0\n",
       "249     390580.0\n",
       "Name: Area_km2, Length: 250, dtype: float64"
      ]
     },
     "execution_count": 670,
     "metadata": {},
     "output_type": "execute_result"
    }
   ],
   "source": [
    "#changing datadf[\"Area_km2\"].astype(float)"
   ]
  },
  {
   "cell_type": "code",
   "execution_count": 671,
   "id": "8267db8f-672f-43bd-829e-44e502029603",
   "metadata": {},
   "outputs": [
    {
     "data": {
      "text/plain": [
       "0"
      ]
     },
     "execution_count": 671,
     "metadata": {},
     "output_type": "execute_result"
    }
   ],
   "source": [
    "#checking duplicates\n",
    "df.duplicated().sum()"
   ]
  },
  {
   "cell_type": "code",
   "execution_count": 672,
   "id": "bc22bf15-ff5a-449c-bb6c-3303e76a2da6",
   "metadata": {
    "scrolled": true
   },
   "outputs": [
    {
     "data": {
      "text/html": [
       "<div>\n",
       "<style scoped>\n",
       "    .dataframe tbody tr th:only-of-type {\n",
       "        vertical-align: middle;\n",
       "    }\n",
       "\n",
       "    .dataframe tbody tr th {\n",
       "        vertical-align: top;\n",
       "    }\n",
       "\n",
       "    .dataframe thead th {\n",
       "        text-align: right;\n",
       "    }\n",
       "</style>\n",
       "<table border=\"1\" class=\"dataframe\">\n",
       "  <thead>\n",
       "    <tr style=\"text-align: right;\">\n",
       "      <th></th>\n",
       "      <th>Country</th>\n",
       "      <th>Capital_City</th>\n",
       "      <th>Population</th>\n",
       "      <th>Area_km2</th>\n",
       "    </tr>\n",
       "  </thead>\n",
       "  <tbody>\n",
       "    <tr>\n",
       "      <th>0</th>\n",
       "      <td>Andorra</td>\n",
       "      <td>Andorra la Vella</td>\n",
       "      <td>84000</td>\n",
       "      <td>468.0</td>\n",
       "    </tr>\n",
       "    <tr>\n",
       "      <th>1</th>\n",
       "      <td>United Arab Emirates</td>\n",
       "      <td>Abu Dhabi</td>\n",
       "      <td>4975593</td>\n",
       "      <td>82880.0</td>\n",
       "    </tr>\n",
       "    <tr>\n",
       "      <th>2</th>\n",
       "      <td>Afghanistan</td>\n",
       "      <td>Kabul</td>\n",
       "      <td>29121286</td>\n",
       "      <td>647500.0</td>\n",
       "    </tr>\n",
       "    <tr>\n",
       "      <th>3</th>\n",
       "      <td>Antigua and Barbuda</td>\n",
       "      <td>St. John's</td>\n",
       "      <td>86754</td>\n",
       "      <td>443.0</td>\n",
       "    </tr>\n",
       "    <tr>\n",
       "      <th>4</th>\n",
       "      <td>Anguilla</td>\n",
       "      <td>The Valley</td>\n",
       "      <td>13254</td>\n",
       "      <td>102.0</td>\n",
       "    </tr>\n",
       "  </tbody>\n",
       "</table>\n",
       "</div>"
      ],
      "text/plain": [
       "                Country      Capital_City Population  Area_km2\n",
       "0               Andorra  Andorra la Vella      84000     468.0\n",
       "1  United Arab Emirates         Abu Dhabi    4975593   82880.0\n",
       "2           Afghanistan             Kabul   29121286  647500.0\n",
       "3   Antigua and Barbuda        St. John's      86754     443.0\n",
       "4              Anguilla        The Valley      13254     102.0"
      ]
     },
     "execution_count": 672,
     "metadata": {},
     "output_type": "execute_result"
    }
   ],
   "source": [
    "df.head()"
   ]
  },
  {
   "cell_type": "markdown",
   "id": "c8e51eff-222d-4f07-988d-a4ed65ba4ea0",
   "metadata": {},
   "source": [
    "After cleaning the file I am going to save the file in a spreadsheet read for future analysis. This is all I have on web scraping in this project. Thank you."
   ]
  },
  {
   "cell_type": "code",
   "execution_count": 674,
   "id": "7b6f4968-25e5-4a1a-b240-77f80b60ef18",
   "metadata": {},
   "outputs": [
    {
     "name": "stdout",
     "output_type": "stream",
     "text": [
      "DataFrame saved to C:/Users/RICH-FILES/Desktop/Datasets/projectsdatasets/worldcountries_scraped.xlsx\n"
     ]
    }
   ],
   "source": [
    "# Saving the DataFrame to an Excel file\n",
    "file_path = \"C:/Users/RICH-FILES/Desktop/Datasets/projectsdatasets/worldcountries_scraped.xlsx\"\n",
    "df.to_excel(file_path, index=False)\n",
    "\n",
    "print(f\"DataFrame saved to {file_path}\")\n"
   ]
  },
  {
   "cell_type": "code",
   "execution_count": null,
   "id": "aa6e89cd-f5aa-49c9-9f8b-65f9e29b7105",
   "metadata": {},
   "outputs": [],
   "source": []
  }
 ],
 "metadata": {
  "kernelspec": {
   "display_name": "Python 3 (ipykernel)",
   "language": "python",
   "name": "python3"
  },
  "language_info": {
   "codemirror_mode": {
    "name": "ipython",
    "version": 3
   },
   "file_extension": ".py",
   "mimetype": "text/x-python",
   "name": "python",
   "nbconvert_exporter": "python",
   "pygments_lexer": "ipython3",
   "version": "3.11.7"
  }
 },
 "nbformat": 4,
 "nbformat_minor": 5
}
